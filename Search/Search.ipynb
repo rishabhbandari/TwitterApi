{
 "cells": [
  {
   "cell_type": "code",
   "execution_count": 1,
   "metadata": {},
   "outputs": [],
   "source": [
    "import json\n",
    "import csv\n",
    "import tweepy\n",
    "import re"
   ]
  },
  {
   "cell_type": "code",
   "execution_count": 2,
   "metadata": {},
   "outputs": [],
   "source": [
    "def search(consumer_key, consumer_secret, access_token, access_token_secret, keyword):\n",
    "    \n",
    " \n",
    "    auth = tweepy.OAuthHandler(consumer_key, consumer_secret)\n",
    "    auth.set_access_token(access_token, access_token_secret)\n",
    "\n",
    "\n",
    "    api = tweepy.API(auth)\n",
    "    \n",
    "    \n",
    "    fname = 'searchlistRT'\n",
    "\n",
    "    \n",
    "    with open('%s.csv' % (fname), 'w', encoding=\"utf-8\") as file:\n",
    "\n",
    "        w = csv.writer(file)\n",
    "\n",
    "   \n",
    "        w.writerow(['timestamp', 'tweet_text', 'username'])\n",
    "\n",
    "\n",
    "        for tweet in tweepy.Cursor(api.search, keyword, \\\n",
    "                                   lang=\"en\", tweet_mode='extended').items(1500):\n",
    "            w.writerow([tweet.created_at, tweet.full_text, tweet.user.screen_name])"
   ]
  },
  {
   "cell_type": "code",
   "execution_count": 3,
   "metadata": {},
   "outputs": [
    {
     "name": "stdout",
     "output_type": "stream",
     "text": [
      "keywordCanada OR University OR Dalhousie University OR Halifax OR Education\n"
     ]
    }
   ],
   "source": [
    "\n",
    "consumer_key = ''\n",
    "consumer_secret = ''  \n",
    "access_token = '-'\n",
    "access_token_secret = ''\n",
    "    \n",
    "keyword = input('keyword')\n",
    "\n",
    "\n",
    "if __name__ == '__main__':\n",
    "    search(consumer_key, consumer_secret, access_token, access_token_secret, keyword)"
   ]
  },
  {
   "cell_type": "code",
   "execution_count": null,
   "metadata": {},
   "outputs": [],
   "source": []
  }
 ],
 "metadata": {
  "kernelspec": {
   "display_name": "Python 3",
   "language": "python",
   "name": "python3"
  },
  "language_info": {
   "codemirror_mode": {
    "name": "ipython",
    "version": 3
   },
   "file_extension": ".py",
   "mimetype": "text/x-python",
   "name": "python",
   "nbconvert_exporter": "python",
   "pygments_lexer": "ipython3",
   "version": "3.7.3"
  }
 },
 "nbformat": 4,
 "nbformat_minor": 2
}
